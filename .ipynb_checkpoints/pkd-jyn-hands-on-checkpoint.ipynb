{
 "cells": [
  {
   "cell_type": "code",
   "execution_count": 2,
   "metadata": {},
   "outputs": [
    {
     "name": "stdout",
     "output_type": "stream",
     "text": [
      "pkd is back\n"
     ]
    }
   ],
   "source": [
    "print \"pkd is back\""
   ]
  },
  {
   "cell_type": "markdown",
   "metadata": {},
   "source": [
    "## Dear Almighty,\n",
    "\n",
    "### Thank You for having me back here!"
   ]
  },
  {
   "cell_type": "code",
   "execution_count": 3,
   "metadata": {},
   "outputs": [
    {
     "name": "stderr",
     "output_type": "stream",
     "text": [
      "Python 2.7.16 :: Anaconda, Inc.\n"
     ]
    }
   ],
   "source": [
    "! python --version"
   ]
  },
  {
   "cell_type": "code",
   "execution_count": 1,
   "metadata": {},
   "outputs": [
    {
     "name": "stdout",
     "output_type": "stream",
     "text": [
      "Hello, pkd!\n"
     ]
    }
   ],
   "source": [
    "def say_hello(name):\n",
    "    print \"Hello, {0}!\".format(name)\n",
    "    \n",
    "say_hello(\"pkd\")"
   ]
  },
  {
   "cell_type": "code",
   "execution_count": 2,
   "metadata": {},
   "outputs": [
    {
     "name": "stdout",
     "output_type": "stream",
     "text": [
      " Volume in drive C is pkd-os-docs\n",
      " Volume Serial Number is 847A-223B\n",
      "\n",
      " Directory of C:\\Users\\prd\\Documents\\study-stuffs\\dsc-learnings\n",
      "\n",
      "Sat,06,Apr,19  22:58    <DIR>          .\n",
      "Sat,06,Apr,19  22:58    <DIR>          ..\n",
      "Sat,06,Apr,19  22:41    <DIR>          .ipynb_checkpoints\n",
      "Sat,06,Apr,19  22:58             1,475 pkd-jyn-hands-on.ipynb\n",
      "               1 File(s)          1,475 bytes\n",
      "               3 Dir(s)  62,653,214,720 bytes free\n"
     ]
    }
   ],
   "source": [
    "%ls"
   ]
  },
  {
   "cell_type": "code",
   "execution_count": 5,
   "metadata": {},
   "outputs": [
    {
     "name": "stdout",
     "output_type": "stream",
     "text": [
      "Requirement already satisfied: ipython-sql in c:\\programdata\\anaconda2\\lib\\site-packages (0.3.9)\n",
      "Requirement already satisfied: sqlparse in c:\\programdata\\anaconda2\\lib\\site-packages (from ipython-sql) (0.3.0)\n",
      "Requirement already satisfied: ipython-genutils>=0.1.0 in c:\\programdata\\anaconda2\\lib\\site-packages (from ipython-sql) (0.2.0)\n",
      "Requirement already satisfied: ipython>=1.0 in c:\\programdata\\anaconda2\\lib\\site-packages (from ipython-sql) (5.8.0)\n",
      "Requirement already satisfied: six in c:\\programdata\\anaconda2\\lib\\site-packages (from ipython-sql) (1.12.0)\n",
      "Requirement already satisfied: sqlalchemy>=0.6.7 in c:\\programdata\\anaconda2\\lib\\site-packages (from ipython-sql) (1.3.1)\n",
      "Requirement already satisfied: prettytable in c:\\programdata\\anaconda2\\lib\\site-packages (from ipython-sql) (0.7.2)\n",
      "Requirement already satisfied: prompt-toolkit<2.0.0,>=1.0.4 in c:\\programdata\\anaconda2\\lib\\site-packages (from ipython>=1.0->ipython-sql) (1.0.15)\n",
      "Requirement already satisfied: setuptools>=18.5 in c:\\programdata\\anaconda2\\lib\\site-packages (from ipython>=1.0->ipython-sql) (40.8.0)\n",
      "Requirement already satisfied: decorator in c:\\programdata\\anaconda2\\lib\\site-packages (from ipython>=1.0->ipython-sql) (4.4.0)\n",
      "Requirement already satisfied: pickleshare in c:\\programdata\\anaconda2\\lib\\site-packages (from ipython>=1.0->ipython-sql) (0.7.5)\n",
      "Requirement already satisfied: win-unicode-console>=0.5; sys_platform == \"win32\" and python_version < \"3.6\" in c:\\programdata\\anaconda2\\lib\\site-packages (from ipython>=1.0->ipython-sql) (0.5)\n",
      "Requirement already satisfied: pygments in c:\\programdata\\anaconda2\\lib\\site-packages (from ipython>=1.0->ipython-sql) (2.3.1)\n",
      "Requirement already satisfied: pathlib2; python_version == \"2.7\" or python_version == \"3.3\" in c:\\programdata\\anaconda2\\lib\\site-packages (from ipython>=1.0->ipython-sql) (2.3.3)\n",
      "Requirement already satisfied: backports.shutil-get-terminal-size; python_version == \"2.7\" in c:\\programdata\\anaconda2\\lib\\site-packages (from ipython>=1.0->ipython-sql) (1.0.0)\n",
      "Requirement already satisfied: colorama; sys_platform == \"win32\" in c:\\programdata\\anaconda2\\lib\\site-packages (from ipython>=1.0->ipython-sql) (0.4.1)\n",
      "Requirement already satisfied: simplegeneric>0.8 in c:\\programdata\\anaconda2\\lib\\site-packages (from ipython>=1.0->ipython-sql) (0.8.1)\n",
      "Requirement already satisfied: traitlets>=4.2 in c:\\programdata\\anaconda2\\lib\\site-packages (from ipython>=1.0->ipython-sql) (4.3.2)\n",
      "Requirement already satisfied: wcwidth in c:\\programdata\\anaconda2\\lib\\site-packages (from prompt-toolkit<2.0.0,>=1.0.4->ipython>=1.0->ipython-sql) (0.1.7)\n",
      "Requirement already satisfied: scandir in c:\\programdata\\anaconda2\\lib\\site-packages (from pathlib2; python_version == \"2.7\" or python_version == \"3.3\"->ipython>=1.0->ipython-sql) (1.10.0)\n",
      "Requirement already satisfied: enum34 in c:\\programdata\\anaconda2\\lib\\site-packages (from traitlets>=4.2->ipython>=1.0->ipython-sql) (1.1.6)\n"
     ]
    },
    {
     "name": "stderr",
     "output_type": "stream",
     "text": [
      "DEPRECATION: Python 2.7 will reach the end of its life on January 1st, 2020. Please upgrade your Python as Python 2.7 won't be maintained after that date. A future version of pip will drop support for Python 2.7.\n"
     ]
    }
   ],
   "source": [
    "!pip install ipython-sql"
   ]
  },
  {
   "cell_type": "code",
   "execution_count": 6,
   "metadata": {},
   "outputs": [],
   "source": [
    "%load_ext sql"
   ]
  },
  {
   "cell_type": "code",
   "execution_count": 7,
   "metadata": {},
   "outputs": [
    {
     "data": {
      "text/plain": [
       "'Connected: @None'"
      ]
     },
     "execution_count": 7,
     "metadata": {},
     "output_type": "execute_result"
    }
   ],
   "source": [
    "%sql sqlite://"
   ]
  },
  {
   "cell_type": "code",
   "execution_count": 8,
   "metadata": {},
   "outputs": [
    {
     "name": "stdout",
     "output_type": "stream",
     "text": [
      " * sqlite://\n",
      "Done.\n",
      "1 rows affected.\n",
      "1 rows affected.\n"
     ]
    },
    {
     "data": {
      "text/plain": [
       "[]"
      ]
     },
     "execution_count": 8,
     "metadata": {},
     "output_type": "execute_result"
    }
   ],
   "source": [
    "%%sql\n",
    "\n",
    "create table emp(name, grade, sal);\n",
    "insert into emp values('pkd', 'a1', 20000);\n",
    "insert into emp values('rkg', 'a2', 40000);"
   ]
  },
  {
   "cell_type": "code",
   "execution_count": 9,
   "metadata": {},
   "outputs": [
    {
     "name": "stdout",
     "output_type": "stream",
     "text": [
      " * sqlite://\n",
      "Done.\n"
     ]
    },
    {
     "data": {
      "text/html": [
       "<table>\n",
       "    <tr>\n",
       "        <th>name</th>\n",
       "        <th>grade</th>\n",
       "        <th>sal</th>\n",
       "    </tr>\n",
       "    <tr>\n",
       "        <td>pkd</td>\n",
       "        <td>a1</td>\n",
       "        <td>20000</td>\n",
       "    </tr>\n",
       "    <tr>\n",
       "        <td>rkg</td>\n",
       "        <td>a2</td>\n",
       "        <td>40000</td>\n",
       "    </tr>\n",
       "</table>"
      ],
      "text/plain": [
       "[(u'pkd', u'a1', 20000), (u'rkg', u'a2', 40000)]"
      ]
     },
     "execution_count": 9,
     "metadata": {},
     "output_type": "execute_result"
    }
   ],
   "source": [
    "%sql select * from emp;"
   ]
  },
  {
   "cell_type": "code",
   "execution_count": null,
   "metadata": {},
   "outputs": [],
   "source": []
  }
 ],
 "metadata": {
  "kernelspec": {
   "display_name": "Python 2",
   "language": "python",
   "name": "python2"
  },
  "language_info": {
   "codemirror_mode": {
    "name": "ipython",
    "version": 2
   },
   "file_extension": ".py",
   "mimetype": "text/x-python",
   "name": "python",
   "nbconvert_exporter": "python",
   "pygments_lexer": "ipython2",
   "version": "2.7.16"
  }
 },
 "nbformat": 4,
 "nbformat_minor": 2
}
